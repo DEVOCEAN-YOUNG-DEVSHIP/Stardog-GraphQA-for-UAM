{
 "cells": [
  {
   "cell_type": "code",
   "execution_count": 1,
   "metadata": {},
   "outputs": [],
   "source": [
    "from langchain.chat_models import ChatOpenAI\n",
    "from langchain.chains import GraphSparqlQAChain\n",
    "from langchain.graphs import RdfGraph"
   ]
  },
  {
   "cell_type": "code",
   "execution_count": 2,
   "metadata": {},
   "outputs": [],
   "source": [
    "import os\n",
    "os.environ['OPENAI_API_KEY'] = \"\""
   ]
  },
  {
   "cell_type": "code",
   "execution_count": 8,
   "metadata": {},
   "outputs": [],
   "source": [
    "from libs.langchain.graphs.stardog_graph import StardogGraph\n",
    "from libs.langchain.chains.graph_qa.stardog import StardogQAChain\n",
    "\n",
    "\n",
    "conn_details = {\n",
    "    'endpoint': '',\n",
    "    'username': '',\n",
    "    'password': '',\n",
    "    'database': ''\n",
    "}\n",
    "\n",
    "stardog_graph = StardogGraph(**conn_details)\n",
    "\n",
    "chain = StardogQAChain.from_llm(\n",
    "    ChatOpenAI(temperature=1), graph=stardog_graph, verbose=True\n",
    ")"
   ]
  },
  {
   "cell_type": "code",
   "execution_count": 9,
   "metadata": {},
   "outputs": [
    {
     "name": "stdout",
     "output_type": "stream",
     "text": [
      "\n",
      "\n",
      "\u001b[1m> Entering new StardogQAChain chain...\u001b[0m\n",
      "Identified intent:\n",
      "\u001b[32;1m\u001b[1;3mSELECT\u001b[0m\n",
      "Generated SPARQL:\n",
      "\u001b[32;1m\u001b[1;3mPREFIX foaf: <http://xmlns.com/foaf/0.1/>\n",
      "SELECT ?contents\n",
      "WHERE {\n",
      "    ?s ?p ?contents .\n",
      "}\u001b[0m\n",
      "Full Context:\n",
      "\u001b[32;1m\u001b[1;3m{'head': {'vars': ['contents']}, 'results': {'bindings': []}}\u001b[0m\n",
      "\n",
      "\u001b[1m> Finished chain.\u001b[0m\n"
     ]
    },
    {
     "data": {
      "text/plain": [
       "\"I'm sorry, but there doesn't seem to be any information available about the contents.\""
      ]
     },
     "execution_count": 9,
     "metadata": {},
     "output_type": "execute_result"
    }
   ],
   "source": [
    "chain.run(\"What is all of contents?\")"
   ]
  },
  {
   "cell_type": "code",
   "execution_count": 10,
   "metadata": {},
   "outputs": [
    {
     "data": {
      "text/plain": [
       "'\\n<tag:stardog:designer:UAM_DEVOCEAN:model:AREA> a <http://www.w3.org/2002/07/owl#Class> ;\\n  <http://www.w3.org/2000/01/rdf-schema#label> \"AREA\" ;\\n  <tag:stardog:designer:colorId> \"sd-qb-green\" .\\n<tag:stardog:designer:UAM_DEVOCEAN:model:TIME> a <http://www.w3.org/2002/07/owl#Class> ;\\n  <http://www.w3.org/2000/01/rdf-schema#label> \"TIME\" ;\\n  <tag:stardog:designer:colorId> \"sd-qb-yellow-green\" .\\n<tag:stardog:designer:UAM_DEVOCEAN:model:UAM> a <http://www.w3.org/2002/07/owl#Class> ;\\n  <http://www.w3.org/2000/01/rdf-schema#label> \"UAM\" ;\\n  <tag:stardog:designer:colorId> \"sd-qb-red\" .\\n<tag:stardog:designer:UAM_DEVOCEAN:model:VERTIPAD> a <http://www.w3.org/2002/07/owl#Class> ;\\n  <http://www.w3.org/2000/01/rdf-schema#label> \"VERTIPAD\" ;\\n  <tag:stardog:designer:colorId> \"sd-qb-orange\" .\\n<tag:stardog:designer:UAM_DEVOCEAN:model:VERTIPORT> a <http://www.w3.org/2002/07/owl#Class> ;\\n  <http://www.w3.org/2000/01/rdf-schema#label> \"VERTIPORT\" ;\\n  <tag:stardog:designer:colorId> \"sd-qb-gold\" .\\n<tag:stardog:designer:UAM_DEVOCEAN:model:waypoint> a <http://www.w3.org/2002/07/owl#Class> ;\\n  <http://www.w3.org/2000/01/rdf-schema#label> \"WAYPOINT\" ;\\n  <tag:stardog:designer:colorId> \"sd-qb-light-orange\" .\\n\\n<tag:stardog:designer:UAM_DEVOCEAN:model:between> a <http://www.w3.org/2002/07/owl#ObjectProperty> ;\\n  <http://www.w3.org/2000/01/rdf-schema#label> \"between\" ;\\n  <https://schema.org/domainIncludes> <tag:stardog:designer:UAM_DEVOCEAN:model:waypoint> ;\\n  <https://schema.org/rangeIncludes> <tag:stardog:designer:UAM_DEVOCEAN:model:VERTIPORT> .\\n<tag:stardog:designer:UAM_DEVOCEAN:model:in> a <http://www.w3.org/2002/07/owl#ObjectProperty> ;\\n  <http://www.w3.org/2000/01/rdf-schema#label> \"in\" ;\\n  <https://schema.org/domainIncludes> <tag:stardog:designer:UAM_DEVOCEAN:model:VERTIPAD> ;\\n  <https://schema.org/rangeIncludes> <tag:stardog:designer:UAM_DEVOCEAN:model:VERTIPORT> .\\n<tag:stardog:designer:UAM_DEVOCEAN:model:in_area> a <http://www.w3.org/2002/07/owl#ObjectProperty> ;\\n  <http://www.w3.org/2000/01/rdf-schema#label> \"in area\" ;\\n  <https://schema.org/domainIncludes> <tag:stardog:designer:UAM_DEVOCEAN:model:VERTIPORT>, <tag:stardog:designer:UAM_DEVOCEAN:model:waypoint> ;\\n  <https://schema.org/rangeIncludes> <tag:stardog:designer:UAM_DEVOCEAN:model:AREA> .\\n<tag:stardog:designer:UAM_DEVOCEAN:model:on_time> a <http://www.w3.org/2002/07/owl#ObjectProperty> ;\\n  <http://www.w3.org/2000/01/rdf-schema#label> \"on time\" ;\\n  <https://schema.org/domainIncludes> <tag:stardog:designer:UAM_DEVOCEAN:model:AREA>, <tag:stardog:designer:UAM_DEVOCEAN:model:UAM>, <tag:stardog:designer:UAM_DEVOCEAN:model:VERTIPAD>, <tag:stardog:designer:UAM_DEVOCEAN:model:VERTIPORT>, <tag:stardog:designer:UAM_DEVOCEAN:model:waypoint> ;\\n  <https://schema.org/rangeIncludes> <tag:stardog:designer:UAM_DEVOCEAN:model:TIME> .\\n<tag:stardog:designer:UAM_DEVOCEAN:model:on_vertipad> a <http://www.w3.org/2002/07/owl#ObjectProperty> ;\\n  <http://www.w3.org/2000/01/rdf-schema#label> \"on vertipad\" ;\\n  <https://schema.org/domainIncludes> <tag:stardog:designer:UAM_DEVOCEAN:model:UAM> ;\\n  <https://schema.org/rangeIncludes> <tag:stardog:designer:UAM_DEVOCEAN:model:VERTIPAD> .\\n<tag:stardog:designer:UAM_DEVOCEAN:model:on_waypoint> a <http://www.w3.org/2002/07/owl#ObjectProperty> ;\\n  <http://www.w3.org/2000/01/rdf-schema#label> \"on waypoint\" ;\\n  <https://schema.org/domainIncludes> <tag:stardog:designer:UAM_DEVOCEAN:model:UAM> ;\\n  <https://schema.org/rangeIncludes> <tag:stardog:designer:UAM_DEVOCEAN:model:waypoint> .\\n\\n<tag:stardog:designer:UAM_DEVOCEAN:model:area_id> a <http://www.w3.org/2002/07/owl#DatatypeProperty> ;\\n  <http://www.w3.org/2000/01/rdf-schema#label> \"area_id\" ;\\n  <https://schema.org/domainIncludes> <tag:stardog:designer:UAM_DEVOCEAN:model:AREA>, <tag:stardog:designer:UAM_DEVOCEAN:model:VERTIPORT>, <tag:stardog:designer:UAM_DEVOCEAN:model:waypoint> ;\\n  <https://schema.org/rangeIncludes> <http://www.w3.org/2001/XMLSchema#string> .\\n<tag:stardog:designer:UAM_DEVOCEAN:model:availability> a <http://www.w3.org/2002/07/owl#DatatypeProperty> ;\\n  <http://www.w3.org/2000/01/rdf-schema#label> \"availability\" ;\\n  <https://schema.org/domainIncludes> <tag:stardog:designer:UAM_DEVOCEAN:model:AREA> ;\\n  <https://schema.org/rangeIncludes> <http://www.w3.org/2001/XMLSchema#boolean> .\\n<tag:stardog:designer:UAM_DEVOCEAN:model:num_of_avail_vertipad> a <http://www.w3.org/2002/07/owl#DatatypeProperty> ;\\n  <http://www.w3.org/2000/01/rdf-schema#label> \"num_of_avail_vertipad\" ;\\n  <https://schema.org/rangeIncludes> <http://www.w3.org/2001/XMLSchema#integer> .\\n<tag:stardog:designer:UAM_DEVOCEAN:model:time> a <http://www.w3.org/2002/07/owl#DatatypeProperty> ;\\n  <http://www.w3.org/2000/01/rdf-schema#label> \"time\" ;\\n  <https://schema.org/domainIncludes> <tag:stardog:designer:UAM_DEVOCEAN:model:AREA>, <tag:stardog:designer:UAM_DEVOCEAN:model:TIME>, <tag:stardog:designer:UAM_DEVOCEAN:model:VERTIPAD>, <tag:stardog:designer:UAM_DEVOCEAN:model:VERTIPORT>, <tag:stardog:designer:UAM_DEVOCEAN:model:waypoint> ;\\n  <https://schema.org/rangeIncludes> <http://www.w3.org/2001/XMLSchema#time> .\\n<tag:stardog:designer:UAM_DEVOCEAN:model:uam_id> a <http://www.w3.org/2002/07/owl#DatatypeProperty> ;\\n  <http://www.w3.org/2000/01/rdf-schema#label> \"uam_id\" ;\\n  <https://schema.org/domainIncludes> <tag:stardog:designer:UAM_DEVOCEAN:model:UAM>, <tag:stardog:designer:UAM_DEVOCEAN:model:VERTIPAD>, <tag:stardog:designer:UAM_DEVOCEAN:model:waypoint> ;\\n  <https://schema.org/rangeIncludes> <http://www.w3.org/2001/XMLSchema#string> .\\n<tag:stardog:designer:UAM_DEVOCEAN:model:uam_type> a <http://www.w3.org/2002/07/owl#DatatypeProperty> ;\\n  <http://www.w3.org/2000/01/rdf-schema#label> \"uam_type\" ;\\n  <https://schema.org/rangeIncludes> <http://www.w3.org/2001/XMLSchema#string> .\\n<tag:stardog:designer:UAM_DEVOCEAN:model:vertipad_id> a <http://www.w3.org/2002/07/owl#DatatypeProperty> ;\\n  <http://www.w3.org/2000/01/rdf-schema#label> \"vertipad_id\" ;\\n  <https://schema.org/domainIncludes> <tag:stardog:designer:UAM_DEVOCEAN:model:UAM>, <tag:stardog:designer:UAM_DEVOCEAN:model:VERTIPAD> ;\\n  <https://schema.org/rangeIncludes> <http://www.w3.org/2001/XMLSchema#string> .\\n<tag:stardog:designer:UAM_DEVOCEAN:model:vertiport_id> a <http://www.w3.org/2002/07/owl#DatatypeProperty> ;\\n  <http://www.w3.org/2000/01/rdf-schema#label> \"vertiport_id\" ;\\n  <https://schema.org/domainIncludes> <tag:stardog:designer:UAM_DEVOCEAN:model:UAM>, <tag:stardog:designer:UAM_DEVOCEAN:model:VERTIPAD>, <tag:stardog:designer:UAM_DEVOCEAN:model:VERTIPORT> ;\\n  <https://schema.org/rangeIncludes> <http://www.w3.org/2001/XMLSchema#string> .\\n<tag:stardog:designer:UAM_DEVOCEAN:model:waypoint_id> a <http://www.w3.org/2002/07/owl#DatatypeProperty> ;\\n  <http://www.w3.org/2000/01/rdf-schema#label> \"waypoint_id\" ;\\n  <https://schema.org/domainIncludes> <tag:stardog:designer:UAM_DEVOCEAN:model:UAM>, <tag:stardog:designer:UAM_DEVOCEAN:model:waypoint> ;\\n  <https://schema.org/rangeIncludes> <http://www.w3.org/2001/XMLSchema#string> .\\n'"
      ]
     },
     "execution_count": 10,
     "metadata": {},
     "output_type": "execute_result"
    }
   ],
   "source": [
    "stardog_graph.get_schema"
   ]
  },
  {
   "cell_type": "code",
   "execution_count": 11,
   "metadata": {},
   "outputs": [
    {
     "name": "stdout",
     "output_type": "stream",
     "text": [
      "\n",
      "<tag:stardog:designer:UAM_DEVOCEAN:model:AREA> a <http://www.w3.org/2002/07/owl#Class> ;\n",
      "  <http://www.w3.org/2000/01/rdf-schema#label> \"AREA\" ;\n",
      "  <tag:stardog:designer:colorId> \"sd-qb-green\" .\n",
      "<tag:stardog:designer:UAM_DEVOCEAN:model:TIME> a <http://www.w3.org/2002/07/owl#Class> ;\n",
      "  <http://www.w3.org/2000/01/rdf-schema#label> \"TIME\" ;\n",
      "  <tag:stardog:designer:colorId> \"sd-qb-yellow-green\" .\n",
      "<tag:stardog:designer:UAM_DEVOCEAN:model:UAM> a <http://www.w3.org/2002/07/owl#Class> ;\n",
      "  <http://www.w3.org/2000/01/rdf-schema#label> \"UAM\" ;\n",
      "  <tag:stardog:designer:colorId> \"sd-qb-red\" .\n",
      "<tag:stardog:designer:UAM_DEVOCEAN:model:VERTIPAD> a <http://www.w3.org/2002/07/owl#Class> ;\n",
      "  <http://www.w3.org/2000/01/rdf-schema#label> \"VERTIPAD\" ;\n",
      "  <tag:stardog:designer:colorId> \"sd-qb-orange\" .\n",
      "<tag:stardog:designer:UAM_DEVOCEAN:model:VERTIPORT> a <http://www.w3.org/2002/07/owl#Class> ;\n",
      "  <http://www.w3.org/2000/01/rdf-schema#label> \"VERTIPORT\" ;\n",
      "  <tag:stardog:designer:colorId> \"sd-qb-gold\" .\n",
      "<tag:stardog:designer:UAM_DEVOCEAN:model:waypoint> a <http://www.w3.org/2002/07/owl#Class> ;\n",
      "  <http://www.w3.org/2000/01/rdf-schema#label> \"WAYPOINT\" ;\n",
      "  <tag:stardog:designer:colorId> \"sd-qb-light-orange\" .\n",
      "\n",
      "<tag:stardog:designer:UAM_DEVOCEAN:model:between> a <http://www.w3.org/2002/07/owl#ObjectProperty> ;\n",
      "  <http://www.w3.org/2000/01/rdf-schema#label> \"between\" ;\n",
      "  <https://schema.org/domainIncludes> <tag:stardog:designer:UAM_DEVOCEAN:model:waypoint> ;\n",
      "  <https://schema.org/rangeIncludes> <tag:stardog:designer:UAM_DEVOCEAN:model:VERTIPORT> .\n",
      "<tag:stardog:designer:UAM_DEVOCEAN:model:in> a <http://www.w3.org/2002/07/owl#ObjectProperty> ;\n",
      "  <http://www.w3.org/2000/01/rdf-schema#label> \"in\" ;\n",
      "  <https://schema.org/domainIncludes> <tag:stardog:designer:UAM_DEVOCEAN:model:VERTIPAD> ;\n",
      "  <https://schema.org/rangeIncludes> <tag:stardog:designer:UAM_DEVOCEAN:model:VERTIPORT> .\n",
      "<tag:stardog:designer:UAM_DEVOCEAN:model:in_area> a <http://www.w3.org/2002/07/owl#ObjectProperty> ;\n",
      "  <http://www.w3.org/2000/01/rdf-schema#label> \"in area\" ;\n",
      "  <https://schema.org/domainIncludes> <tag:stardog:designer:UAM_DEVOCEAN:model:VERTIPORT>, <tag:stardog:designer:UAM_DEVOCEAN:model:waypoint> ;\n",
      "  <https://schema.org/rangeIncludes> <tag:stardog:designer:UAM_DEVOCEAN:model:AREA> .\n",
      "<tag:stardog:designer:UAM_DEVOCEAN:model:on_time> a <http://www.w3.org/2002/07/owl#ObjectProperty> ;\n",
      "  <http://www.w3.org/2000/01/rdf-schema#label> \"on time\" ;\n",
      "  <https://schema.org/domainIncludes> <tag:stardog:designer:UAM_DEVOCEAN:model:AREA>, <tag:stardog:designer:UAM_DEVOCEAN:model:UAM>, <tag:stardog:designer:UAM_DEVOCEAN:model:VERTIPAD>, <tag:stardog:designer:UAM_DEVOCEAN:model:VERTIPORT>, <tag:stardog:designer:UAM_DEVOCEAN:model:waypoint> ;\n",
      "  <https://schema.org/rangeIncludes> <tag:stardog:designer:UAM_DEVOCEAN:model:TIME> .\n",
      "<tag:stardog:designer:UAM_DEVOCEAN:model:on_vertipad> a <http://www.w3.org/2002/07/owl#ObjectProperty> ;\n",
      "  <http://www.w3.org/2000/01/rdf-schema#label> \"on vertipad\" ;\n",
      "  <https://schema.org/domainIncludes> <tag:stardog:designer:UAM_DEVOCEAN:model:UAM> ;\n",
      "  <https://schema.org/rangeIncludes> <tag:stardog:designer:UAM_DEVOCEAN:model:VERTIPAD> .\n",
      "<tag:stardog:designer:UAM_DEVOCEAN:model:on_waypoint> a <http://www.w3.org/2002/07/owl#ObjectProperty> ;\n",
      "  <http://www.w3.org/2000/01/rdf-schema#label> \"on waypoint\" ;\n",
      "  <https://schema.org/domainIncludes> <tag:stardog:designer:UAM_DEVOCEAN:model:UAM> ;\n",
      "  <https://schema.org/rangeIncludes> <tag:stardog:designer:UAM_DEVOCEAN:model:waypoint> .\n",
      "\n",
      "<tag:stardog:designer:UAM_DEVOCEAN:model:area_id> a <http://www.w3.org/2002/07/owl#DatatypeProperty> ;\n",
      "  <http://www.w3.org/2000/01/rdf-schema#label> \"area_id\" ;\n",
      "  <https://schema.org/domainIncludes> <tag:stardog:designer:UAM_DEVOCEAN:model:AREA>, <tag:stardog:designer:UAM_DEVOCEAN:model:VERTIPORT>, <tag:stardog:designer:UAM_DEVOCEAN:model:waypoint> ;\n",
      "  <https://schema.org/rangeIncludes> <http://www.w3.org/2001/XMLSchema#string> .\n",
      "<tag:stardog:designer:UAM_DEVOCEAN:model:availability> a <http://www.w3.org/2002/07/owl#DatatypeProperty> ;\n",
      "  <http://www.w3.org/2000/01/rdf-schema#label> \"availability\" ;\n",
      "  <https://schema.org/domainIncludes> <tag:stardog:designer:UAM_DEVOCEAN:model:AREA> ;\n",
      "  <https://schema.org/rangeIncludes> <http://www.w3.org/2001/XMLSchema#boolean> .\n",
      "<tag:stardog:designer:UAM_DEVOCEAN:model:num_of_avail_vertipad> a <http://www.w3.org/2002/07/owl#DatatypeProperty> ;\n",
      "  <http://www.w3.org/2000/01/rdf-schema#label> \"num_of_avail_vertipad\" ;\n",
      "  <https://schema.org/rangeIncludes> <http://www.w3.org/2001/XMLSchema#integer> .\n",
      "<tag:stardog:designer:UAM_DEVOCEAN:model:time> a <http://www.w3.org/2002/07/owl#DatatypeProperty> ;\n",
      "  <http://www.w3.org/2000/01/rdf-schema#label> \"time\" ;\n",
      "  <https://schema.org/domainIncludes> <tag:stardog:designer:UAM_DEVOCEAN:model:AREA>, <tag:stardog:designer:UAM_DEVOCEAN:model:TIME>, <tag:stardog:designer:UAM_DEVOCEAN:model:VERTIPAD>, <tag:stardog:designer:UAM_DEVOCEAN:model:VERTIPORT>, <tag:stardog:designer:UAM_DEVOCEAN:model:waypoint> ;\n",
      "  <https://schema.org/rangeIncludes> <http://www.w3.org/2001/XMLSchema#time> .\n",
      "<tag:stardog:designer:UAM_DEVOCEAN:model:uam_id> a <http://www.w3.org/2002/07/owl#DatatypeProperty> ;\n",
      "  <http://www.w3.org/2000/01/rdf-schema#label> \"uam_id\" ;\n",
      "  <https://schema.org/domainIncludes> <tag:stardog:designer:UAM_DEVOCEAN:model:UAM>, <tag:stardog:designer:UAM_DEVOCEAN:model:VERTIPAD>, <tag:stardog:designer:UAM_DEVOCEAN:model:waypoint> ;\n",
      "  <https://schema.org/rangeIncludes> <http://www.w3.org/2001/XMLSchema#string> .\n",
      "<tag:stardog:designer:UAM_DEVOCEAN:model:uam_type> a <http://www.w3.org/2002/07/owl#DatatypeProperty> ;\n",
      "  <http://www.w3.org/2000/01/rdf-schema#label> \"uam_type\" ;\n",
      "  <https://schema.org/rangeIncludes> <http://www.w3.org/2001/XMLSchema#string> .\n",
      "<tag:stardog:designer:UAM_DEVOCEAN:model:vertipad_id> a <http://www.w3.org/2002/07/owl#DatatypeProperty> ;\n",
      "  <http://www.w3.org/2000/01/rdf-schema#label> \"vertipad_id\" ;\n",
      "  <https://schema.org/domainIncludes> <tag:stardog:designer:UAM_DEVOCEAN:model:UAM>, <tag:stardog:designer:UAM_DEVOCEAN:model:VERTIPAD> ;\n",
      "  <https://schema.org/rangeIncludes> <http://www.w3.org/2001/XMLSchema#string> .\n",
      "<tag:stardog:designer:UAM_DEVOCEAN:model:vertiport_id> a <http://www.w3.org/2002/07/owl#DatatypeProperty> ;\n",
      "  <http://www.w3.org/2000/01/rdf-schema#label> \"vertiport_id\" ;\n",
      "  <https://schema.org/domainIncludes> <tag:stardog:designer:UAM_DEVOCEAN:model:UAM>, <tag:stardog:designer:UAM_DEVOCEAN:model:VERTIPAD>, <tag:stardog:designer:UAM_DEVOCEAN:model:VERTIPORT> ;\n",
      "  <https://schema.org/rangeIncludes> <http://www.w3.org/2001/XMLSchema#string> .\n",
      "<tag:stardog:designer:UAM_DEVOCEAN:model:waypoint_id> a <http://www.w3.org/2002/07/owl#DatatypeProperty> ;\n",
      "  <http://www.w3.org/2000/01/rdf-schema#label> \"waypoint_id\" ;\n",
      "  <https://schema.org/domainIncludes> <tag:stardog:designer:UAM_DEVOCEAN:model:UAM>, <tag:stardog:designer:UAM_DEVOCEAN:model:waypoint> ;\n",
      "  <https://schema.org/rangeIncludes> <http://www.w3.org/2001/XMLSchema#string> .\n",
      "\n"
     ]
    }
   ],
   "source": [
    "print(stardog_graph.get_schema)"
   ]
  },
  {
   "cell_type": "code",
   "execution_count": null,
   "metadata": {},
   "outputs": [],
   "source": []
  }
 ],
 "metadata": {
  "kernelspec": {
   "display_name": "devship-demo",
   "language": "python",
   "name": "python3"
  },
  "language_info": {
   "codemirror_mode": {
    "name": "ipython",
    "version": 3
   },
   "file_extension": ".py",
   "mimetype": "text/x-python",
   "name": "python",
   "nbconvert_exporter": "python",
   "pygments_lexer": "ipython3",
   "version": "3.11.6"
  }
 },
 "nbformat": 4,
 "nbformat_minor": 2
}
